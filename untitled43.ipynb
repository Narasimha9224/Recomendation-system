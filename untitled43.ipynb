import torch
import torch.nn as nn
import torch.optim as optim
ratings_data = [
    (0, 0, 5.0),
    (0, 1, 3.0),
    (1, 0, 4.0),
    (1, 2, 1.0),
    (2, 1, 4.0),
    (2, 2, 5.0)
]

user_ids = torch.tensor([x[0] for x in ratings_data])
item_ids = torch.tensor([x[1] for x in ratings_data])
ratings = torch.tensor([x[2] for x in ratings_data], dtype=torch.float32)

n_users = max(user_ids).item() + 1
n_items = max(item_ids).item() + 1
embedding_dim = 8  
class MatrixFactorization(nn.Module):
    def __init__(self, n_users, n_items, embedding_dim):
        super(MatrixFactorization, self).__init__()
        self.user_emb = nn.Embedding(n_users, embedding_dim)
        self.item_emb = nn.Embedding(n_items, embedding_dim)

    def forward(self, user, item):
        user_vecs = self.user_emb(user)
        item_vecs = self.item_emb(item)
        return (user_vecs * item_vecs).sum(1)
model = MatrixFactorization(n_users, n_items, embedding_dim)
loss_fn = nn.MSELoss()
optimizer = optim.Adam(model.parameters(), lr=0.01)
for epoch in range(100):
    model.train()
    preds = model(user_ids, item_ids)
    loss = loss_fn(preds, ratings)
    optimizer.zero_grad()
    loss.backward()
    optimizer.step()
    if epoch % 10 == 0:
        print(f"Epoch {epoch} - Loss: {loss.item():.4f}")
model.eval()
user = torch.tensor([0])
item = torch.tensor([2])
predicted_rating = model(user, item).item()
print(f"Predicted rating for User 0 on Item 2: {predicted_rating:.2f}")
